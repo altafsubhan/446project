{
 "cells": [
  {
   "cell_type": "code",
   "execution_count": 202,
   "metadata": {},
   "outputs": [],
   "source": [
    "import pandas as pd\n",
    "import numpy as np"
   ]
  },
  {
   "cell_type": "code",
   "execution_count": 203,
   "metadata": {},
   "outputs": [],
   "source": [
    "result = pd.read_csv('Travel_Survey_Compressed.csv', sep=',')\n",
    "#result.head()"
   ]
  },
  {
   "cell_type": "code",
   "execution_count": 204,
   "metadata": {},
   "outputs": [],
   "source": [
    "f = open('Travel_Survey_Data.csv', 'w')\n",
    "with open('Travel_Survey_Compressed.csv', 'r') as r:\n",
    "    for ln in r:\n",
    "        ln_li = ln.replace(\"\\n\", \"\").replace(\"\\ufeff\",\"\").split(',')\n",
    "        for i in ln_li[0].split(\";\"):\n",
    "            for j in ln_li[2].split(\";\"):\n",
    "                new_ln = i + \",\" + ln_li[1] + \",\" + j.lstrip() + \",\"\n",
    "                new_ln += ln.split(\",\", 3)[3] + \"\\n\"\n",
    "                new_ln = new_ln.replace(\"\\n\\n\", \"\\n\")\n",
    "                #print(new_ln)\n",
    "                f.write(new_ln.lstrip())\n",
    "result_filtered = pd.read_csv('Travel_Survey_Data.csv', sep=',')"
   ]
  },
  {
   "cell_type": "code",
   "execution_count": 205,
   "metadata": {},
   "outputs": [],
   "source": [
    "dest_list = result[\"Recommendation\"].tolist()\n",
    "dest_li_unique = list(dict.fromkeys(dest_list))\n",
    "#print(dest_li_unique, len(dest_li_unique))"
   ]
  },
  {
   "cell_type": "code",
   "execution_count": 206,
   "metadata": {},
   "outputs": [],
   "source": [
    "#favorite activity encoding\n",
    "activity_list = result_filtered[\"Favorite Activity\"].tolist()\n",
    "activity_list = list(dict.fromkeys(activity_list))\n",
    "#print(activity_list)\n",
    "\n",
    "#reason to travel encoding\n",
    "reason_list = result_filtered[\"Main Reason to Travel\"].tolist()\n",
    "reason_list = list(dict.fromkeys(reason_list))\n",
    "\n",
    "#important factor encoding\n",
    "factor_list = result_filtered[\"Most Important Factor for Trip Planning\"].tolist()\n",
    "factor_list = list(dict.fromkeys(factor_list))\n",
    "\n",
    "#appealing destination encoding\n",
    "appeal_list = result_filtered[\"Most Appealing Destination\"].tolist()\n",
    "appeal_list = list(dict.fromkeys(appeal_list))\n",
    "\n",
    "# new csv\n",
    "fw = open(\"Travel_Survey_Data_Encoded.csv\", \"w\")\n",
    "fw.write(\"Recommendation,Ideal Group Size,Openness,Conscientiousness,Extraversion,Agreeableness,Neuroticism,is_student,is_male,is_female,is_non_binary,\")\n",
    "\n",
    "en_text_list = \"\"\n",
    "for act in reason_list + factor_list + activity_list + appeal_list:\n",
    "    en_name = \"is_\" + act.replace(\" \", \"_\").lower()\n",
    "    en_text_list += en_name + \",\"\n",
    "#print(en_text_list[:-1])\n",
    "fw.write(en_text_list[:-1] + \"\\n\")\n",
    "#fw.close()\n",
    "\n",
    "with open('Travel_Survey_Compressed.csv', 'r') as fr:\n",
    "    for ln in fr:\n",
    "        if \"Recommendation\" in ln:\n",
    "            pass\n",
    "        else:\n",
    "            li = ln.lower().split(\",\")\n",
    "            reason = li[0]\n",
    "            factor = li[1]\n",
    "            activity = li[2]\n",
    "            appeal = li[3]\n",
    "            gp_size = li[4]\n",
    "            gender = li[5]\n",
    "            student = li[6]\n",
    "            op, con, ext, agr, neu = li[7:12]\n",
    "            rec = li[12].replace(\"\\n\", \"\").title()\n",
    "            \n",
    "            row = rec + \",\" + gp_size + \",\" + op + \",\" + con + \",\" + ext + \",\" + agr + \",\" + neu + \",\"\n",
    "            if student.strip().lower() == \"yes\":\n",
    "                row += \"1,\"\n",
    "            else:\n",
    "                row += \"0,\"\n",
    "            if gender.strip().lower() == \"male\":\n",
    "                row += \"1,\"\n",
    "            else:\n",
    "                row += \"0,\"\n",
    "            if gender.strip().lower() == \"female\":\n",
    "                row += \"1,\"\n",
    "            else:\n",
    "                row += \"0,\"\n",
    "            if gender.strip().lower() == \"non_binary\":\n",
    "                row += \"1,\"\n",
    "            else:\n",
    "                row += \"0,\"\n",
    "            \n",
    "            #reason\n",
    "            for i in reason_list:\n",
    "                if i.lower() in reason:\n",
    "                    row += \"1,\"\n",
    "                else:\n",
    "                    row += \"0,\"\n",
    "                    \n",
    "            #factor\n",
    "            for i in factor_list:\n",
    "                if i.lower() in factor:\n",
    "                    row += \"1,\"\n",
    "                else:\n",
    "                    row += \"0,\"\n",
    "                    \n",
    "            #activity\n",
    "            for i in activity_list:\n",
    "                if i.lower() in activity:\n",
    "                    row += \"1,\"\n",
    "                else:\n",
    "                    row += \"0,\"\n",
    "                    \n",
    "            #appeal\n",
    "            for i in appeal_list:\n",
    "                if i.lower() in appeal:\n",
    "                    row += \"1,\"\n",
    "                else:\n",
    "                    row += \"0,\"\n",
    "                    \n",
    "            fw.write(row + \"\\n\")\n",
    "fw.close()"
   ]
  },
  {
   "cell_type": "code",
   "execution_count": 207,
   "metadata": {},
   "outputs": [],
   "source": [
    "from sklearn import tree\n",
    "from sklearn.tree import DecisionTreeClassifier, export_graphviz\n",
    "from sklearn.model_selection import train_test_split\n",
    "\n",
    "import matplotlib.pyplot as plt\n",
    "import seaborn as sns\n",
    "\n",
    "%matplotlib inline"
   ]
  },
  {
   "cell_type": "code",
   "execution_count": 208,
   "metadata": {},
   "outputs": [],
   "source": [
    "train, test = train_test_split(result_filtered,test_size=0.15)"
   ]
  },
  {
   "cell_type": "code",
   "execution_count": 216,
   "metadata": {},
   "outputs": [],
   "source": [
    "c = DecisionTreeClassifier()\n",
    "features = [\"Ideal Group Size\",\"Openness\",\"Conscientiousness\",\"Extraversion\",\"Agreeableness\",\"Neuroticism\",\"is_student\",\"is_male\",\"is_female\",\"is_non_binary\"]"
   ]
  },
  {
   "cell_type": "code",
   "execution_count": 218,
   "metadata": {},
   "outputs": [
    {
     "data": {
      "text/plain": [
       "DecisionTreeClassifier()"
      ]
     },
     "execution_count": 218,
     "metadata": {},
     "output_type": "execute_result"
    }
   ],
   "source": [
    "x_train = train[features]\n",
    "y_train = train['Recommendation']\n",
    "\n",
    "x_test = test[features]\n",
    "y_test = test['Recommendation']\n",
    "c.fit(x_train, y_train)"
   ]
  },
  {
   "cell_type": "code",
   "execution_count": null,
   "metadata": {},
   "outputs": [],
   "source": []
  }
 ],
 "metadata": {
  "kernelspec": {
   "display_name": "Python 3",
   "language": "python",
   "name": "python3"
  },
  "language_info": {
   "codemirror_mode": {
    "name": "ipython",
    "version": 3
   },
   "file_extension": ".py",
   "mimetype": "text/x-python",
   "name": "python",
   "nbconvert_exporter": "python",
   "pygments_lexer": "ipython3",
   "version": "3.7.3"
  }
 },
 "nbformat": 4,
 "nbformat_minor": 4
}
